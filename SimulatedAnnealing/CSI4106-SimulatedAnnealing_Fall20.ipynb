{
 "cells": [
  {
   "cell_type": "markdown",
   "metadata": {},
   "source": [
    "# Notebook 3 - Simulated annealing for the TSP"
   ]
  },
  {
   "cell_type": "markdown",
   "metadata": {},
   "source": [
    "CSI4106 Artificial Intelligence  \n",
    "Fall 2020  \n",
    "Prepared by Julian Templeton and Caroline Barrière"
   ]
  },
  {
   "cell_type": "markdown",
   "metadata": {},
   "source": [
    "***INTRODUCTION***:\n",
    "\n",
    "This homework will allow you to look deeper into one of the randomized searches presented in class, that of *Simulated Annealing*. It is a good example of a *random modification* algorithm, in which we start with a greedy solution, and then make changes and accept the modified solutions with different probabilities given their level of fitness to a cost function.\n",
    "\n",
    "The application domain for experimenting with *Simulated Annealing* is the traveling salesman problem (TSP), which is a classical problem of scheduling, with optimization on the cost of travel.\n",
    "\n",
    "The notebook will lead into the **Simulated Annealing** portion after exploring a **greedy approach** and a **randomized greedy approach**."
   ]
  },
  {
   "cell_type": "markdown",
   "metadata": {},
   "source": [
    "***HOMEWORK***:  \n",
    "Go through the notebook by running each cell, one at a time.  \n",
    "Look for **(TO DO)** for the tasks that you need to perform. Do not edit the code outside of the questions which you are asked to answer unless specifically asked. Once you're done, sign the notebook (see the added step at the end), and submit it.  \n",
    "\n",
    "*The notebook will be marked on 20.  \n",
    "Each **(TO DO)** has a number of points associated with it.*\n",
    "***"
   ]
  },
  {
   "cell_type": "markdown",
   "metadata": {},
   "source": [
    "**1. Let's start with a small set of cities.**"
   ]
  },
  {
   "cell_type": "code",
   "execution_count": 130,
   "metadata": {},
   "outputs": [],
   "source": [
    "# let's define 5 cities with a label and a (x,y) coordinate\n",
    "cities = {'A': (0,0), 'B': (1,1), 'C': (1,0), 'D': (1,-1), 'E': (-1,-1)}"
   ]
  },
  {
   "cell_type": "markdown",
   "metadata": {},
   "source": [
    "Let's plot the nodes using the *showNodes* method below.  \n",
    "The packages matplotlib, networkx, and numpy must be installed first.  \n",
    "To do so, open a command prompt and type **pip install numpy** and **pip install networkx** (If you are using linux or potentially Mac, you may need to use **pip3** rather than **pip** depending on how you set it up). You should already have matplotlib, but if not use the pip command **pip install matplotlib**. After installing the packages, run the cell below. If it does not work, restart the Kernel and run through it again to be able to run the cell."
   ]
  },
  {
   "cell_type": "code",
   "execution_count": 131,
   "metadata": {},
   "outputs": [],
   "source": [
    "import matplotlib.pyplot as plt\n",
    "import networkx as nx\n",
    "\n",
    "# small method to show nodes\n",
    "# provide defaults for figure size (size), as well as x and y axis\n",
    "def showNodes(nodeDict, size= (6.5, 4), xLim=[-2,2], yLim=[-2,2]):\n",
    "    fig = plt.figure(figsize=size)\n",
    "    axg = fig.add_subplot(111)\n",
    "    axg.set_xlim(xLim)\n",
    "    axg.set_ylim(yLim)\n",
    "\n",
    "    G=nx.Graph()\n",
    "    for k in nodeDict.keys():\n",
    "        G.add_node(k, coor=nodeDict.get(k))\n",
    "    \n",
    "    pos=nx.get_node_attributes(G,'coor')\n",
    "    nx.draw(G, pos, with_labels = True)\n",
    "    plt.axis('on')\n",
    "    plt.show()"
   ]
  },
  {
   "cell_type": "code",
   "execution_count": 132,
   "metadata": {},
   "outputs": [
    {
     "data": {
      "image/png": "[encoded data removed]",
      "text/plain": [
       "<Figure size 468x288 with 1 Axes>"
      ]
     },
     "metadata": {},
     "output_type": "display_data"
    }
   ],
   "source": [
    "# show the cities on a map\n",
    "showNodes(cities)"
   ]
  },
  {
   "cell_type": "markdown",
   "metadata": {},
   "source": [
    "#### 2. Let's find the distances between all cities.\n",
    "First, we define a method to calculate the distance between two specific cities, and then a method to find the distances between all pairs of nodes."
   ]
  },
  {
   "cell_type": "code",
   "execution_count": 133,
   "metadata": {},
   "outputs": [],
   "source": [
    "import math\n",
    "\n",
    "# returns the euclidian distance between two nodes\n",
    "def dist(node1, node2):\n",
    "    return round(math.sqrt(math.pow(node1[0] - node2[0], 2) + math.pow(node1[1] - node2[1], 2)), 3)"
   ]
  },
  {
   "cell_type": "code",
   "execution_count": 134,
   "metadata": {},
   "outputs": [
    {
     "data": {
      "text/plain": [
       "1.414"
      ]
     },
     "execution_count": 134,
     "metadata": {},
     "output_type": "execute_result"
    }
   ],
   "source": [
    "# Small test to see the distance\n",
    "dist(cities.get('A'), cities.get('B'))"
   ]
  },
  {
   "cell_type": "code",
   "execution_count": 135,
   "metadata": {},
   "outputs": [],
   "source": [
    "# building a dictionary of all pairs or distances\n",
    "def distDict(nodes):\n",
    "    distance = {}\n",
    "    # go through all pairs of nodes\n",
    "    for k in nodes.keys():\n",
    "        for m in nodes.keys():\n",
    "            distance[k,m] = dist(nodes.get(k), nodes.get(m))\n",
    "    return distance"
   ]
  },
  {
   "cell_type": "code",
   "execution_count": 136,
   "metadata": {},
   "outputs": [
    {
     "name": "stdout",
     "output_type": "stream",
     "text": [
      "{('A', 'A'): 0.0, ('A', 'B'): 1.414, ('A', 'C'): 1.0, ('A', 'D'): 1.414, ('A', 'E'): 1.414, ('B', 'A'): 1.414, ('B', 'B'): 0.0, ('B', 'C'): 1.0, ('B', 'D'): 2.0, ('B', 'E'): 2.828, ('C', 'A'): 1.0, ('C', 'B'): 1.0, ('C', 'C'): 0.0, ('C', 'D'): 1.0, ('C', 'E'): 2.236, ('D', 'A'): 1.414, ('D', 'B'): 2.0, ('D', 'C'): 1.0, ('D', 'D'): 0.0, ('D', 'E'): 2.0, ('E', 'A'): 1.414, ('E', 'B'): 2.828, ('E', 'C'): 2.236, ('E', 'D'): 2.0, ('E', 'E'): 0.0}\n"
     ]
    }
   ],
   "source": [
    "# showing the distances between the cities\n",
    "distances = distDict(cities)\n",
    "print(distances)"
   ]
  },
  {
   "cell_type": "code",
   "execution_count": 137,
   "metadata": {},
   "outputs": [],
   "source": [
    "# find the min distance from node1 to all other nodes.\n",
    "# it receives the node1 label, the labels of other nodes to test,\n",
    "# and the precalculated distances between all nodes\n",
    "def closestNode(node1_label, otherNodes_Labels, distanceDict):\n",
    "    # tricky syntax... it creates tuples where the distance is the first element of the tuple\n",
    "    # and the position in the array is the second element of the tuple\n",
    "    minDist = min( (distanceDict[node1_label,k], k) for k in otherNodes_Labels)\n",
    "    # get the second element of the tuple which is the index found\n",
    "    foundNode = minDist[1]\n",
    "    return foundNode"
   ]
  },
  {
   "cell_type": "code",
   "execution_count": 138,
   "metadata": {},
   "outputs": [
    {
     "data": {
      "text/plain": [
       "'C'"
      ]
     },
     "execution_count": 138,
     "metadata": {},
     "output_type": "execute_result"
    }
   ],
   "source": [
    "# Testing the closest node\n",
    "closestNode('B', ['C', 'D'], distances)"
   ]
  },
  {
   "cell_type": "markdown",
   "metadata": {},
   "source": [
    "#### 3. Greedy solution first \n",
    "Before we can apply *simulated annealing*, we must first find a suboptimal solution that we will refine. The first solution will be a Greedy solution. Only the choice of the starting node is random in this solution, and from there, the algorithm always choses the closest node."
   ]
  },
  {
   "cell_type": "code",
   "execution_count": 139,
   "metadata": {},
   "outputs": [],
   "source": [
    "# greedy solution\n",
    "import random\n",
    "\n",
    "def greedy_solution(nodes):\n",
    "    # distance matrix\n",
    "    allDist = distDict(nodes)\n",
    "    # pick a first node at random among the set of keys (node names)\n",
    "    cur_node = random.choice(list(nodes.keys()))\n",
    "    # add that node to solution\n",
    "    solution = [cur_node]\n",
    "    # build a free list of nodes (not yet used) containing all nodes except the one just chosen \n",
    "    free_list = list(nodes.keys())\n",
    "    free_list.remove(cur_node)\n",
    "    \n",
    "    # while there are still nodes to be attached\n",
    "    while free_list:\n",
    "        # find the closestNode\n",
    "        found_node = closestNode(cur_node, free_list, allDist)\n",
    "        cur_node = found_node\n",
    "        free_list.remove(cur_node)\n",
    "        solution.append(cur_node)\n",
    "\n",
    "    return solution"
   ]
  },
  {
   "cell_type": "code",
   "execution_count": 140,
   "metadata": {},
   "outputs": [
    {
     "name": "stdout",
     "output_type": "stream",
     "text": [
      "['D', 'C', 'A', 'B', 'E']\n"
     ]
    }
   ],
   "source": [
    "# Test obtaining a greedy solution\n",
    "gs = greedy_solution(cities)\n",
    "print(gs)"
   ]
  },
  {
   "cell_type": "markdown",
   "metadata": {},
   "source": [
    "#### 4. Showing a path.  \n",
    "We slightly modify to showNodes method from before, to become showPath, wich is now a directed graph."
   ]
  },
  {
   "cell_type": "code",
   "execution_count": 141,
   "metadata": {},
   "outputs": [],
   "source": [
    "# small method to show a path\n",
    "# it receives an ordered list of nodes e.g. ['B','C','A', 'D', 'E']\n",
    "# and a dictionary of all the nodes and their positions\n",
    "def showPath(path, nodeDict, size= (6.5, 4), xLim=[-2,2], yLim=[-2,2]):\n",
    "    fig = plt.figure(figsize=size)\n",
    "    axg = fig.add_subplot(111)\n",
    "    axg.set_xlim(xLim)\n",
    "    axg.set_ylim(yLim)\n",
    "\n",
    "    G=nx.DiGraph()\n",
    "    for k in path:\n",
    "        G.add_node(k, pos=nodeDict.get(k))\n",
    "        \n",
    "    for i in range(len(path) - 1):\n",
    "        x = path[i]\n",
    "        y = path[i + 1]\n",
    "        G.add_edge(x,y)\n",
    "        \n",
    "    pos=nx.get_node_attributes(G,'pos')\n",
    "    nx.draw(G, pos, with_labels = True, edge_color = 'b', arrows=True)   \n",
    "    # nx.draw(G, pos, with_labels = True)\n",
    "    plt.axis('on')\n",
    "    plt.show()"
   ]
  },
  {
   "cell_type": "markdown",
   "metadata": {},
   "source": [
    "**(TO DO) Q1 - 2 marks**  \n",
    "1. Select a seed (integer) to use in the cell below\n",
    "2. Run that cell to set the seed (only once)\n",
    "3. Run the tests below the seed declaration repeatedly (just manually run it) until you get two identical results in the same run. Record how many runs it took and the solution found in the answer section below.\n",
    "4. Run the tests below the seed declaration repeatedly (just manually run it) until you get two different results in the same run. Record how many runs it took and the solution found in the answer section below."
   ]
  },
  {
   "cell_type": "markdown",
   "metadata": {},
   "source": [
    "**(ANSWER in this Markdown) Q1**  \n",
    "Nb of runs needed to generate an identical gs1 and gs2 : 8 \n",
    "Solution generated for the identical gs1 and gs2 : ['B', 'C', 'A', 'D', 'E'] ['B', 'C', 'A', 'D', 'E']\n",
    "\n",
    "Nb of runs needed to generate a different gs1 and gs2 :  1\n",
    "Solutions generated for the distinct gs1 and gs2 : ['B', 'C', 'A', 'D', 'E'] ['E', 'A', 'C', 'B', 'D']"
   ]
  },
  {
   "cell_type": "markdown",
   "metadata": {},
   "source": [
    "Setup the seed:"
   ]
  },
  {
   "cell_type": "code",
   "execution_count": 142,
   "metadata": {},
   "outputs": [],
   "source": [
    "# To Do: Place your seed here and run the cell to set/reset it\n",
    "# random.seed(int)\n",
    "random.seed(3)"
   ]
  },
  {
   "cell_type": "markdown",
   "metadata": {},
   "source": [
    "Let us run a test to visualize two greedy solutions. Look at the text output of the path if the plotted graph contains edges that go through a node."
   ]
  },
  {
   "cell_type": "code",
   "execution_count": 143,
   "metadata": {},
   "outputs": [
    {
     "name": "stdout",
     "output_type": "stream",
     "text": [
      "['B', 'C', 'A', 'D', 'E']\n"
     ]
    },
    {
     "data": {
      "image/png": "[encoded data removed]",
      "text/plain": [
       "<Figure size 468x288 with 1 Axes>"
      ]
     },
     "metadata": {},
     "output_type": "display_data"
    },
    {
     "name": "stdout",
     "output_type": "stream",
     "text": [
      "['E', 'A', 'C', 'B', 'D']\n"
     ]
    },
    {
     "data": {
      "image/png": "[encoded data removed]",
      "text/plain": [
       "<Figure size 468x288 with 1 Axes>"
      ]
     },
     "metadata": {},
     "output_type": "display_data"
    }
   ],
   "source": [
    "# To Do: Need to run this (make no changes) and answer the questions above\n",
    "\n",
    "# Testing to output the path chosen by the greedy solution\n",
    "gs1 = greedy_solution(cities)\n",
    "print(gs1)\n",
    "showPath(gs1, cities)\n",
    "gs2 = greedy_solution(cities)\n",
    "print(gs2)\n",
    "showPath(gs2, cities)"
   ]
  },
  {
   "cell_type": "markdown",
   "metadata": {},
   "source": [
    "**(TO DO) Q2 - 2 marks**  \n",
    "Complete the method to find the total length of the path found.  "
   ]
  },
  {
   "cell_type": "code",
   "execution_count": 144,
   "metadata": {},
   "outputs": [],
   "source": [
    "# (TO DO) totalDistance, which receives a path (list of node labels) and the dictionary of distances\n",
    "def totalDist(path, distanceDict):\n",
    "    total = 0\n",
    "    for i in range(len(path) - 1):\n",
    "        x = path[i]\n",
    "        y = path[i+1]\n",
    "        print(x)\n",
    "        print(y)\n",
    "        total += dist(cities.get(x),cities.get(y)) \n",
    "    return round(total,3)"
   ]
  },
  {
   "cell_type": "code",
   "execution_count": 145,
   "metadata": {},
   "outputs": [
    {
     "name": "stdout",
     "output_type": "stream",
     "text": [
      "B\n",
      "C\n",
      "C\n",
      "A\n",
      "A\n",
      "D\n",
      "D\n",
      "E\n",
      "5.414\n",
      "E\n",
      "A\n",
      "A\n",
      "C\n",
      "C\n",
      "B\n",
      "B\n",
      "D\n",
      "5.414\n"
     ]
    }
   ],
   "source": [
    "# Test the total distance method\n",
    "print(totalDist(gs1, distances))\n",
    "print(totalDist(gs2, distances))"
   ]
  },
  {
   "cell_type": "markdown",
   "metadata": {},
   "source": [
    "**(TO DO) Q3 - 4 marks**  \n",
    "Add two more cities (wherever you want within the predefined -2 to +2 axis as long as no other node is already there).  Rerun the full sequence of tasks performed above on the larger set of cities that you will define below: (1) defining the graph (2) showing the points (3) building the distance dictionary, (4) finding two unique greedy solutions, (5) showing the different paths found along with their total distances."
   ]
  },
  {
   "cell_type": "code",
   "execution_count": 146,
   "metadata": {},
   "outputs": [
    {
     "data": {
      "image/png": "[encoded data removed]",
      "text/plain": [
       "<Figure size 468x288 with 1 Axes>"
      ]
     },
     "metadata": {},
     "output_type": "display_data"
    },
    {
     "name": "stdout",
     "output_type": "stream",
     "text": [
      "{('A', 'A'): 0.0, ('A', 'B'): 1.414, ('A', 'C'): 1.0, ('A', 'D'): 1.414, ('A', 'E'): 1.414, ('A', 'F'): 2.236, ('A', 'G'): 2.0, ('B', 'A'): 1.414, ('B', 'B'): 0.0, ('B', 'C'): 1.0, ('B', 'D'): 2.0, ('B', 'E'): 2.828, ('B', 'F'): 1.0, ('B', 'G'): 1.414, ('C', 'A'): 1.0, ('C', 'B'): 1.0, ('C', 'C'): 0.0, ('C', 'D'): 1.0, ('C', 'E'): 2.236, ('C', 'F'): 2.0, ('C', 'G'): 1.0, ('D', 'A'): 1.414, ('D', 'B'): 2.0, ('D', 'C'): 1.0, ('D', 'D'): 0.0, ('D', 'E'): 2.0, ('D', 'F'): 3.0, ('D', 'G'): 1.414, ('E', 'A'): 1.414, ('E', 'B'): 2.828, ('E', 'C'): 2.236, ('E', 'D'): 2.0, ('E', 'E'): 0.0, ('E', 'F'): 3.606, ('E', 'G'): 3.162, ('F', 'A'): 2.236, ('F', 'B'): 1.0, ('F', 'C'): 2.0, ('F', 'D'): 3.0, ('F', 'E'): 3.606, ('F', 'F'): 0.0, ('F', 'G'): 2.236, ('G', 'A'): 2.0, ('G', 'B'): 1.414, ('G', 'C'): 1.0, ('G', 'D'): 1.414, ('G', 'E'): 3.162, ('G', 'F'): 2.236, ('G', 'G'): 0.0}\n",
      "['E', 'A', 'C', 'B', 'F', 'G', 'D']\n",
      "['B', 'C', 'A', 'D', 'G', 'F', 'E']\n"
     ]
    },
    {
     "data": {
      "image/png": "[encoded data removed]",
      "text/plain": [
       "<Figure size 468x288 with 1 Axes>"
      ]
     },
     "metadata": {},
     "output_type": "display_data"
    },
    {
     "data": {
      "image/png": "[encoded data removed]",
      "text/plain": [
       "<Figure size 468x288 with 1 Axes>"
      ]
     },
     "metadata": {},
     "output_type": "display_data"
    }
   ],
   "source": [
    "# (1) Defining a larger set of cities  (add two more)\n",
    "moreCities = {'A': (0,0), 'B': (1,1), 'C': (1,0), 'D': (1,-1), 'E': (-1,-1), 'F': (1,2), 'G': (2,0)}\n",
    "# (2) Show the points\n",
    "showNodes(moreCities)\n",
    "# (3) Build the distance dictionary\n",
    "moreDistances = distDict(moreCities)\n",
    "print(moreDistances)\n",
    "# (4) Find two unique greedy solutions \n",
    "gs1MC = greedy_solution(moreCities)\n",
    "print(gs1MC)\n",
    "gs2MC = greedy_solution(moreCities)\n",
    "print(gs2MC)\n",
    "# (5) Show the two unique paths found above along with their total distances\n",
    "showPath(gs1MC, moreCities)\n",
    "showPath(gs2MC, moreCities)"
   ]
  },
  {
   "cell_type": "markdown",
   "metadata": {},
   "source": [
    "**5. Randomized Greedy - Setup**\n",
    "\n",
    "Before we create our Randomized Greedy solution, we will define a new function called kClosestNodes that will return the k-closest nodes to a given node."
   ]
  },
  {
   "cell_type": "code",
   "execution_count": 147,
   "metadata": {},
   "outputs": [],
   "source": [
    "# find the min distance from node1 to all other nodes.\n",
    "# it receives the node1 label, the labels of other nodes to test,\n",
    "# the precalculated distances between all nodes, and k for how many to return\n",
    "# The function then outputs a list of the k-closest nodes, where the\n",
    "# first is the closest and the kth is the kth-closest\n",
    "def kClosestNodes(node1_label, otherNodes_Labels, distanceDict, k):\n",
    "    kClosest = []\n",
    "    # Create a sorted distance list based on the values from the distance dictionary\n",
    "    # This has the form [((node_1, node_2),value_1), ..., ((node_n, node_n), value_n)]\n",
    "    sortedDistances = sorted(distanceDict.items(), key=lambda keyPair: keyPair[1])\n",
    "    # Iterate through the sorted distance list to find our k min distances\n",
    "    # from node1_label\n",
    "    for key, value in sortedDistances:\n",
    "        if (k > 0 and key[0] == node1_label and key[1] in otherNodes_Labels):\n",
    "            k -= 1\n",
    "            kClosest.append(key[1])\n",
    "    return kClosest"
   ]
  },
  {
   "cell_type": "code",
   "execution_count": 148,
   "metadata": {},
   "outputs": [
    {
     "name": "stdout",
     "output_type": "stream",
     "text": [
      "{('A', 'A'): 0.0, ('A', 'B'): 1.414, ('A', 'C'): 1.0, ('A', 'D'): 1.414, ('A', 'E'): 1.414, ('B', 'A'): 1.414, ('B', 'B'): 0.0, ('B', 'C'): 1.0, ('B', 'D'): 2.0, ('B', 'E'): 2.828, ('C', 'A'): 1.0, ('C', 'B'): 1.0, ('C', 'C'): 0.0, ('C', 'D'): 1.0, ('C', 'E'): 2.236, ('D', 'A'): 1.414, ('D', 'B'): 2.0, ('D', 'C'): 1.0, ('D', 'D'): 0.0, ('D', 'E'): 2.0, ('E', 'A'): 1.414, ('E', 'B'): 2.828, ('E', 'C'): 2.236, ('E', 'D'): 2.0, ('E', 'E'): 0.0}\n"
     ]
    },
    {
     "data": {
      "text/plain": [
       "['C', 'A']"
      ]
     },
     "execution_count": 148,
     "metadata": {},
     "output_type": "execute_result"
    }
   ],
   "source": [
    "# Example usage\n",
    "# View the distance dictionary to verify correctness when finding the closest nodes\n",
    "# to node B in cities\n",
    "print(distances)\n",
    "# Find the two closest nodes to the node B in cities (using its distance dictionary)\n",
    "kClosestNodes('B', ['A', 'C', 'D', 'E'], distances, 2)"
   ]
  },
  {
   "cell_type": "markdown",
   "metadata": {},
   "source": [
    "**6. Randomized Greedy**\n",
    "\n",
    "Next you will find another suboptimal solution that we will refine. This second solution will be a Randomized Greedy solution."
   ]
  },
  {
   "cell_type": "markdown",
   "metadata": {},
   "source": [
    "**(TO DO) Q4 - 5 marks**  \n",
    "The Randomized Greedy solution that you will create still selects a random first node, but should now pick randomly among the k closest nodes available, given a probability distribution (rather than the closest node).\n",
    "\n",
    "For example, if you found the five closest nodes when looking for which to add next, you would randomly choose one of them where the closest nodes would have a higher probability of being chosen then the nodes that are not as close.\n",
    "\n",
    "The probability distribution for a set of node distances is given by the function *normalize* below and finding the k-closest nodes is given from the kClosestNodes function above. You must call both of these functions in your solution and follow the general structure defined by the comments.\n",
    "\n",
    "After finishing the function, add one more test to the tests below with a different value for k"
   ]
  },
  {
   "cell_type": "code",
   "execution_count": 149,
   "metadata": {},
   "outputs": [],
   "source": [
    "import random\n",
    "import numpy as np\n",
    "\n",
    "# DO NOT EDIT THIS FUNCTION\n",
    "# nodeFrom is the node we start at, nodesTo is a list of nodes\n",
    "# that nodeFrom can go to, and distDict is the dictionary of all\n",
    "# combinations of distances.\n",
    "# This provides the probability distribution to be used by\n",
    "# randomized_greedy_solution\n",
    "def normalize(nodeFrom, nodesTo, distDict):\n",
    "    distances = []\n",
    "    # Here we normalize by 1/distance^2 \n",
    "    for nodeTo in nodesTo:\n",
    "        distances.append(1 / distDict[nodeFrom, nodeTo] ** 2)\n",
    "    sumOfDistances = sum(distances)\n",
    "    normalizedDistances = [dist / sumOfDistances for dist in distances]\n",
    "    return normalizedDistances\n",
    "    \n",
    "# k represents the number of closest nodes to be returned from the\n",
    "# function kClosestNodes\n",
    "def randomized_greedy_solution(nodes, k):\n",
    "    # distance matrix\n",
    "    allDist = distDict(nodes)\n",
    "    # pick a first node at random among the set of keys (node names)\n",
    "    cur_node = random.choice(list(nodes.keys()))\n",
    "    # add that node to solution\n",
    "    solution = [cur_node]\n",
    "    # build a free list of nodes (not yet used) containing all nodes except the one just chosen \n",
    "    free_list = list(nodes.keys())\n",
    "    free_list.remove(cur_node)\n",
    "    \n",
    "    # while there are still nodes to be attached\n",
    "    while free_list:\n",
    "        \n",
    "        # TO DO START: Complete the algorithm by performing what the comments ask\n",
    "        \n",
    "        # Get the closest nodes\n",
    "        kClosest = kClosestNodes(cur_node, nodes, allDist, k)\n",
    "        # Find the normalized distances\n",
    "        normalizeDist = normalize(cur_node, free_list, allDist)\n",
    "        # Select a random closest node based on the probabilities found by the normalized distances\n",
    "        # You will use the function np.random.choice(options, list_of_probabilities_for_options)\n",
    "        # For more information on np.random.choice check out the official documentation:\n",
    "        #      https://docs.scipy.org/doc/numpy-1.15.0/reference/generated/numpy.random.choice.html#numpy.random.choice\n",
    "        found_node = np.random.choice(free_list ,normalizeDist)\n",
    "        # Print out the probabilities for each closest node choice (just output both lists saying what they are)\n",
    "        print(normalizeDist)\n",
    "        # Print out the closest node selected by the probability distribution with it's probability of being selected\n",
    "        print(found_node)\n",
    "        # TO DO END\n",
    "        \n",
    "        # Same as in the Greedy approach\n",
    "        cur_node = found_node\n",
    "        free_list.remove(cur_node)\n",
    "        solution.append(cur_node)\n",
    "\n",
    "    return solution"
   ]
  },
  {
   "cell_type": "code",
   "execution_count": 150,
   "metadata": {
    "scrolled": false
   },
   "outputs": [
    {
     "name": "stdout",
     "output_type": "stream",
     "text": [
      "Greedy Test\n",
      "['C', 'A', 'B', 'F', 'G', 'D', 'E']\n",
      "C\n",
      "A\n",
      "A\n",
      "B\n",
      "B\n",
      "F\n"
     ]
    },
    {
     "ename": "TypeError",
     "evalue": "'NoneType' object is not subscriptable",
     "output_type": "error",
     "traceback": [
      "\u001b[1;31m---------------------------------------------------------------------------\u001b[0m",
      "\u001b[1;31mTypeError\u001b[0m                                 Traceback (most recent call last)",
      "\u001b[1;32m<ipython-input-150-19a8c8e3c58b>\u001b[0m in \u001b[0;36m<module>\u001b[1;34m\u001b[0m\n\u001b[0;32m      5\u001b[0m \u001b[0mgr\u001b[0m \u001b[1;33m=\u001b[0m \u001b[0mgreedy_solution\u001b[0m\u001b[1;33m(\u001b[0m\u001b[0mmoreCities\u001b[0m\u001b[1;33m)\u001b[0m\u001b[1;33m\u001b[0m\u001b[1;33m\u001b[0m\u001b[0m\n\u001b[0;32m      6\u001b[0m \u001b[0mprint\u001b[0m\u001b[1;33m(\u001b[0m\u001b[0mgr\u001b[0m\u001b[1;33m)\u001b[0m\u001b[1;33m\u001b[0m\u001b[1;33m\u001b[0m\u001b[0m\n\u001b[1;32m----> 7\u001b[1;33m \u001b[0mprint\u001b[0m\u001b[1;33m(\u001b[0m\u001b[0mtotalDist\u001b[0m\u001b[1;33m(\u001b[0m\u001b[0mgr\u001b[0m\u001b[1;33m,\u001b[0m \u001b[0mmoreDistances\u001b[0m\u001b[1;33m)\u001b[0m\u001b[1;33m)\u001b[0m\u001b[1;33m\u001b[0m\u001b[1;33m\u001b[0m\u001b[0m\n\u001b[0m\u001b[0;32m      8\u001b[0m \u001b[0mshowPath\u001b[0m\u001b[1;33m(\u001b[0m\u001b[0mgr\u001b[0m\u001b[1;33m,\u001b[0m \u001b[0mmoreCities\u001b[0m\u001b[1;33m)\u001b[0m\u001b[1;33m\u001b[0m\u001b[1;33m\u001b[0m\u001b[0m\n\u001b[0;32m      9\u001b[0m \u001b[0mprint\u001b[0m\u001b[1;33m(\u001b[0m\u001b[1;34m\"Randomized Greedy Test\"\u001b[0m\u001b[1;33m)\u001b[0m\u001b[1;33m\u001b[0m\u001b[1;33m\u001b[0m\u001b[0m\n",
      "\u001b[1;32m<ipython-input-144-ae0c65fedc15>\u001b[0m in \u001b[0;36mtotalDist\u001b[1;34m(path, distanceDict)\u001b[0m\n\u001b[0;32m      7\u001b[0m         \u001b[0mprint\u001b[0m\u001b[1;33m(\u001b[0m\u001b[0mx\u001b[0m\u001b[1;33m)\u001b[0m\u001b[1;33m\u001b[0m\u001b[1;33m\u001b[0m\u001b[0m\n\u001b[0;32m      8\u001b[0m         \u001b[0mprint\u001b[0m\u001b[1;33m(\u001b[0m\u001b[0my\u001b[0m\u001b[1;33m)\u001b[0m\u001b[1;33m\u001b[0m\u001b[1;33m\u001b[0m\u001b[0m\n\u001b[1;32m----> 9\u001b[1;33m         \u001b[0mtotal\u001b[0m \u001b[1;33m+=\u001b[0m \u001b[0mdist\u001b[0m\u001b[1;33m(\u001b[0m\u001b[0mcities\u001b[0m\u001b[1;33m.\u001b[0m\u001b[0mget\u001b[0m\u001b[1;33m(\u001b[0m\u001b[0mx\u001b[0m\u001b[1;33m)\u001b[0m\u001b[1;33m,\u001b[0m\u001b[0mcities\u001b[0m\u001b[1;33m.\u001b[0m\u001b[0mget\u001b[0m\u001b[1;33m(\u001b[0m\u001b[0my\u001b[0m\u001b[1;33m)\u001b[0m\u001b[1;33m)\u001b[0m\u001b[1;33m\u001b[0m\u001b[1;33m\u001b[0m\u001b[0m\n\u001b[0m\u001b[0;32m     10\u001b[0m     \u001b[1;32mreturn\u001b[0m \u001b[0mround\u001b[0m\u001b[1;33m(\u001b[0m\u001b[0mtotal\u001b[0m\u001b[1;33m,\u001b[0m\u001b[1;36m3\u001b[0m\u001b[1;33m)\u001b[0m\u001b[1;33m\u001b[0m\u001b[1;33m\u001b[0m\u001b[0m\n",
      "\u001b[1;32m<ipython-input-133-8f3d1d9e605a>\u001b[0m in \u001b[0;36mdist\u001b[1;34m(node1, node2)\u001b[0m\n\u001b[0;32m      3\u001b[0m \u001b[1;31m# returns the euclidian distance between two nodes\u001b[0m\u001b[1;33m\u001b[0m\u001b[1;33m\u001b[0m\u001b[1;33m\u001b[0m\u001b[0m\n\u001b[0;32m      4\u001b[0m \u001b[1;32mdef\u001b[0m \u001b[0mdist\u001b[0m\u001b[1;33m(\u001b[0m\u001b[0mnode1\u001b[0m\u001b[1;33m,\u001b[0m \u001b[0mnode2\u001b[0m\u001b[1;33m)\u001b[0m\u001b[1;33m:\u001b[0m\u001b[1;33m\u001b[0m\u001b[1;33m\u001b[0m\u001b[0m\n\u001b[1;32m----> 5\u001b[1;33m     \u001b[1;32mreturn\u001b[0m \u001b[0mround\u001b[0m\u001b[1;33m(\u001b[0m\u001b[0mmath\u001b[0m\u001b[1;33m.\u001b[0m\u001b[0msqrt\u001b[0m\u001b[1;33m(\u001b[0m\u001b[0mmath\u001b[0m\u001b[1;33m.\u001b[0m\u001b[0mpow\u001b[0m\u001b[1;33m(\u001b[0m\u001b[0mnode1\u001b[0m\u001b[1;33m[\u001b[0m\u001b[1;36m0\u001b[0m\u001b[1;33m]\u001b[0m \u001b[1;33m-\u001b[0m \u001b[0mnode2\u001b[0m\u001b[1;33m[\u001b[0m\u001b[1;36m0\u001b[0m\u001b[1;33m]\u001b[0m\u001b[1;33m,\u001b[0m \u001b[1;36m2\u001b[0m\u001b[1;33m)\u001b[0m \u001b[1;33m+\u001b[0m \u001b[0mmath\u001b[0m\u001b[1;33m.\u001b[0m\u001b[0mpow\u001b[0m\u001b[1;33m(\u001b[0m\u001b[0mnode1\u001b[0m\u001b[1;33m[\u001b[0m\u001b[1;36m1\u001b[0m\u001b[1;33m]\u001b[0m \u001b[1;33m-\u001b[0m \u001b[0mnode2\u001b[0m\u001b[1;33m[\u001b[0m\u001b[1;36m1\u001b[0m\u001b[1;33m]\u001b[0m\u001b[1;33m,\u001b[0m \u001b[1;36m2\u001b[0m\u001b[1;33m)\u001b[0m\u001b[1;33m)\u001b[0m\u001b[1;33m,\u001b[0m \u001b[1;36m3\u001b[0m\u001b[1;33m)\u001b[0m\u001b[1;33m\u001b[0m\u001b[1;33m\u001b[0m\u001b[0m\n\u001b[0m",
      "\u001b[1;31mTypeError\u001b[0m: 'NoneType' object is not subscriptable"
     ]
    }
   ],
   "source": [
    "# Testing to output the path chosen by the randomized greedy solution with various k's to the greedy solution\n",
    "# Run a few times to see how the results differ with the non-deterministic Randomized Greedy solution\n",
    "# Note that if they start with the same node and k=1 that the results of both will be the same\n",
    "print(\"Greedy Test\")\n",
    "gr = greedy_solution(moreCities)\n",
    "print(gr)\n",
    "print(totalDist(gr, moreDistances))\n",
    "showPath(gr, moreCities)\n",
    "print(\"Randomized Greedy Test\")\n",
    "rgs1 = randomized_greedy_solution(moreCities, 1)\n",
    "print(rgs1)\n",
    "print(totalDist(rgs1, moreDistances))\n",
    "showPath(rgs1, moreCities)\n",
    "print(\"Randomized Greedy Test\")\n",
    "rgs2 = randomized_greedy_solution(moreCities, 2)\n",
    "print(rgs2)\n",
    "print(totalDist(rgs2, moreDistances))\n",
    "showPath(rgs2, moreCities)\n",
    "# TO DO: Add one more test randomized_greedy_solution with a different k\n",
    "# ..."
   ]
  },
  {
   "cell_type": "markdown",
   "metadata": {},
   "source": [
    "**7. Defining the process of simulated annealing**  \n",
    "The class below defines the simulated annealing process.  This class is an adaptation of the class anneal.py found in the python code provided in this github https://github.com/chncyhn/simulated-annealing-tsp. You are not asked to changed this class, just go through it and try to understand it so as to get a better understanding of the *simulated annealing* algorithm."
   ]
  },
  {
   "cell_type": "code",
   "execution_count": 152,
   "metadata": {},
   "outputs": [],
   "source": [
    "# class to perform a simulated annealing\n",
    "# must start with a set of nodes, all other parameters have defaults\n",
    "class SimAnneal(object):\n",
    "    def __init__(self, nodes, randomizedGreedy, k=4, T=-1, alpha=-1, stopping_T=-1, stopping_iter=-1):\n",
    "        # set of nodes\n",
    "        self.nodes = nodes\n",
    "        # number of nodes\n",
    "        self.N = len(nodes)\n",
    "        # set the temperature T to sqrt(N) if not specified\n",
    "        self.T = math.sqrt(self.N) if T == -1 else T\n",
    "        # set alpha (rate at which the temperature is decreased)\n",
    "        self.alpha = 0.995 if alpha == -1 else alpha\n",
    "        # set stopping temprature\n",
    "        self.stopping_temperature = 0.00000001 if stopping_T == -1 else stopping_T\n",
    "        # set stopping iteration\n",
    "        self.stopping_iter = 100000 if stopping_iter == -1 else stopping_iter\n",
    "        # start at iteration 1\n",
    "        self.iteration = 1\n",
    "\n",
    "        # calculate the distances\n",
    "        self.allDist = distDict(nodes)\n",
    "        \n",
    "        # start with greedy solution if randomizedGreedy is false,\n",
    "        #  start with the randomized greedy solution if randomizedGreedy is true\n",
    "        if (randomizedGreedy):\n",
    "            self.cur_solution = randomized_greedy_solution(nodes, k)\n",
    "            self.improvementMessage = 'Improvement over randomized greedy heuristic: '\n",
    "        else:\n",
    "            self.cur_solution = greedy_solution(nodes)\n",
    "            self.improvementMessage = 'Improvement over greedy heuristic: '\n",
    "        \n",
    "        # so far, the best solution is the one we have\n",
    "        self.best_solution = list(self.cur_solution)\n",
    "\n",
    "        # calculate fitness of the current solution\n",
    "        self.cur_fitness = self.fitness(self.cur_solution)\n",
    "        # initial fitness for initial solution\n",
    "        self.initial_fitness = self.cur_fitness\n",
    "        # best fitness so far\n",
    "        self.best_fitness = self.cur_fitness\n",
    "        # build the fitness list as we explore solutions\n",
    "        self.fitness_list = [self.cur_fitness]\n",
    "\n",
    "\n",
    "    def fitness(self, sol):\n",
    "        \"\"\" Objective value of a solution \"\"\"\n",
    "        return totalDist(sol, self.allDist)\n",
    "\n",
    "    # acceptance propability\n",
    "    def p_accept(self, candidate_fitness):\n",
    "        \"\"\"\n",
    "        Probability of accepting if the candidate is worse than current\n",
    "        Depends on the current temperature and difference between candidate and current\n",
    "        \"\"\"\n",
    "        return math.exp(-abs(candidate_fitness - self.cur_fitness) / self.T)\n",
    "\n",
    "    def accept(self, candidate):\n",
    "        \"\"\"\n",
    "        Accept with probability 1 if candidate is better than current\n",
    "        Accept with probabilty p_accept(..) if candidate is worse\n",
    "        \"\"\"\n",
    "        candidate_fitness = self.fitness(candidate)\n",
    "        # test if fitness is smaller then the current one\n",
    "        if candidate_fitness < self.cur_fitness:\n",
    "            self.cur_fitness = candidate_fitness\n",
    "            self.cur_solution = candidate\n",
    "            # test if fitness is better than best so far, keep it as best if so\n",
    "            if candidate_fitness < self.best_fitness:\n",
    "                self.best_fitness = candidate_fitness\n",
    "                self.best_solution = candidate\n",
    "\n",
    "        # if solution is worst than the current one, there is still a possibility to pursue it\n",
    "        else:\n",
    "            if random.random() < self.p_accept(candidate_fitness):\n",
    "                self.cur_fitness = candidate_fitness\n",
    "                self.cur_solution = candidate\n",
    "\n",
    "    def anneal(self):\n",
    "        \"\"\"\n",
    "        Execute simulated annealing algorithm\n",
    "        \"\"\"\n",
    "        # go through the temperature schedule\n",
    "        print(self.T)\n",
    "        print(self.stopping_temperature)\n",
    "        while (self.T >= self.stopping_temperature) and (self.iteration < self.stopping_iter):\n",
    "            # explore current solution\n",
    "            candidate = list(self.cur_solution)\n",
    "            # modify the solution to switch two cities\n",
    "            # first chosen city between [2,N-1] - not changing the first city\n",
    "            l = random.randint(2, self.N - 1)\n",
    "            # second city between [0,N-1] Not sure why ??\n",
    "            i = random.randint(0, self.N - l)\n",
    "            # the chosen nodes are switch\n",
    "            candidate[i:(i + l)] = reversed(candidate[i:(i + l)])\n",
    "            # perform acceptance test \n",
    "            self.accept(candidate)\n",
    "            # multiply the temperature by alpha (this will reduce it)\n",
    "            self.T *= self.alpha\n",
    "            self.iteration += 1\n",
    "            \n",
    "            # add current fitness to list (to be able to display)\n",
    "            self.fitness_list.append(self.cur_fitness)\n",
    "\n",
    "        print('Best fitness obtained: ', self.best_fitness)\n",
    "        print(self.improvementMessage,\n",
    "              round((self.initial_fitness - self.best_fitness) / (self.initial_fitness), 4))\n",
    "\n",
    "        return self.best_solution\n",
    "    \n",
    "    def plot_learning(self):\n",
    "        \"\"\"\n",
    "        Plot the fitness through iterations\n",
    "        \"\"\"\n",
    "        plt.plot([i for i in range(len(self.fitness_list))], self.fitness_list)\n",
    "        plt.ylabel('Fitness')\n",
    "        plt.xlabel('Iteration')\n",
    "        plt.show()\n"
   ]
  },
  {
   "cell_type": "markdown",
   "metadata": {},
   "source": [
    "#### 8. Refining a greedy solution through simulated annealing."
   ]
  },
  {
   "cell_type": "markdown",
   "metadata": {},
   "source": [
    "**(TO DO) Q5 - 5 marks**  \n",
    "Put comments in the code below explaining what it does.  Also run it a few times.  It will show you how there can be improvement (or not) from the greedy solution and randomized greedy solution to the annealed one."
   ]
  },
  {
   "cell_type": "code",
   "execution_count": 153,
   "metadata": {},
   "outputs": [
    {
     "name": "stdout",
     "output_type": "stream",
     "text": [
      "E\n",
      "A\n",
      "A\n",
      "C\n",
      "C\n",
      "B\n",
      "B\n",
      "F\n"
     ]
    },
    {
     "ename": "TypeError",
     "evalue": "'NoneType' object is not subscriptable",
     "output_type": "error",
     "traceback": [
      "\u001b[1;31m---------------------------------------------------------------------------\u001b[0m",
      "\u001b[1;31mTypeError\u001b[0m                                 Traceback (most recent call last)",
      "\u001b[1;32m<ipython-input-153-ba4c1680be95>\u001b[0m in \u001b[0;36m<module>\u001b[1;34m\u001b[0m\n\u001b[0;32m      1\u001b[0m \u001b[0mfirstSol\u001b[0m \u001b[1;33m=\u001b[0m \u001b[0mgreedy_solution\u001b[0m\u001b[1;33m(\u001b[0m\u001b[0mmoreCities\u001b[0m\u001b[1;33m)\u001b[0m\u001b[1;33m\u001b[0m\u001b[1;33m\u001b[0m\u001b[0m\n\u001b[0;32m      2\u001b[0m \u001b[0mdistances\u001b[0m \u001b[1;33m=\u001b[0m \u001b[0mdistDict\u001b[0m\u001b[1;33m(\u001b[0m\u001b[0mmoreCities\u001b[0m\u001b[1;33m)\u001b[0m\u001b[1;33m\u001b[0m\u001b[1;33m\u001b[0m\u001b[0m\n\u001b[1;32m----> 3\u001b[1;33m \u001b[0mprint\u001b[0m\u001b[1;33m(\u001b[0m\u001b[1;34m'Solution {} takes a total of {}'\u001b[0m\u001b[1;33m.\u001b[0m\u001b[0mformat\u001b[0m\u001b[1;33m(\u001b[0m\u001b[0mfirstSol\u001b[0m\u001b[1;33m,\u001b[0m\u001b[0mtotalDist\u001b[0m\u001b[1;33m(\u001b[0m\u001b[0mfirstSol\u001b[0m\u001b[1;33m,\u001b[0m \u001b[0mdistances\u001b[0m\u001b[1;33m)\u001b[0m\u001b[1;33m)\u001b[0m\u001b[1;33m)\u001b[0m\u001b[1;33m\u001b[0m\u001b[1;33m\u001b[0m\u001b[0m\n\u001b[0m\u001b[0;32m      4\u001b[0m \u001b[0mshowPath\u001b[0m\u001b[1;33m(\u001b[0m\u001b[0mfirstSol\u001b[0m\u001b[1;33m,\u001b[0m \u001b[0mmoreCities\u001b[0m\u001b[1;33m)\u001b[0m\u001b[1;33m\u001b[0m\u001b[1;33m\u001b[0m\u001b[0m\n\u001b[0;32m      5\u001b[0m \u001b[1;33m\u001b[0m\u001b[0m\n",
      "\u001b[1;32m<ipython-input-144-ae0c65fedc15>\u001b[0m in \u001b[0;36mtotalDist\u001b[1;34m(path, distanceDict)\u001b[0m\n\u001b[0;32m      7\u001b[0m         \u001b[0mprint\u001b[0m\u001b[1;33m(\u001b[0m\u001b[0mx\u001b[0m\u001b[1;33m)\u001b[0m\u001b[1;33m\u001b[0m\u001b[1;33m\u001b[0m\u001b[0m\n\u001b[0;32m      8\u001b[0m         \u001b[0mprint\u001b[0m\u001b[1;33m(\u001b[0m\u001b[0my\u001b[0m\u001b[1;33m)\u001b[0m\u001b[1;33m\u001b[0m\u001b[1;33m\u001b[0m\u001b[0m\n\u001b[1;32m----> 9\u001b[1;33m         \u001b[0mtotal\u001b[0m \u001b[1;33m+=\u001b[0m \u001b[0mdist\u001b[0m\u001b[1;33m(\u001b[0m\u001b[0mcities\u001b[0m\u001b[1;33m.\u001b[0m\u001b[0mget\u001b[0m\u001b[1;33m(\u001b[0m\u001b[0mx\u001b[0m\u001b[1;33m)\u001b[0m\u001b[1;33m,\u001b[0m\u001b[0mcities\u001b[0m\u001b[1;33m.\u001b[0m\u001b[0mget\u001b[0m\u001b[1;33m(\u001b[0m\u001b[0my\u001b[0m\u001b[1;33m)\u001b[0m\u001b[1;33m)\u001b[0m\u001b[1;33m\u001b[0m\u001b[1;33m\u001b[0m\u001b[0m\n\u001b[0m\u001b[0;32m     10\u001b[0m     \u001b[1;32mreturn\u001b[0m \u001b[0mround\u001b[0m\u001b[1;33m(\u001b[0m\u001b[0mtotal\u001b[0m\u001b[1;33m,\u001b[0m\u001b[1;36m3\u001b[0m\u001b[1;33m)\u001b[0m\u001b[1;33m\u001b[0m\u001b[1;33m\u001b[0m\u001b[0m\n",
      "\u001b[1;32m<ipython-input-133-8f3d1d9e605a>\u001b[0m in \u001b[0;36mdist\u001b[1;34m(node1, node2)\u001b[0m\n\u001b[0;32m      3\u001b[0m \u001b[1;31m# returns the euclidian distance between two nodes\u001b[0m\u001b[1;33m\u001b[0m\u001b[1;33m\u001b[0m\u001b[1;33m\u001b[0m\u001b[0m\n\u001b[0;32m      4\u001b[0m \u001b[1;32mdef\u001b[0m \u001b[0mdist\u001b[0m\u001b[1;33m(\u001b[0m\u001b[0mnode1\u001b[0m\u001b[1;33m,\u001b[0m \u001b[0mnode2\u001b[0m\u001b[1;33m)\u001b[0m\u001b[1;33m:\u001b[0m\u001b[1;33m\u001b[0m\u001b[1;33m\u001b[0m\u001b[0m\n\u001b[1;32m----> 5\u001b[1;33m     \u001b[1;32mreturn\u001b[0m \u001b[0mround\u001b[0m\u001b[1;33m(\u001b[0m\u001b[0mmath\u001b[0m\u001b[1;33m.\u001b[0m\u001b[0msqrt\u001b[0m\u001b[1;33m(\u001b[0m\u001b[0mmath\u001b[0m\u001b[1;33m.\u001b[0m\u001b[0mpow\u001b[0m\u001b[1;33m(\u001b[0m\u001b[0mnode1\u001b[0m\u001b[1;33m[\u001b[0m\u001b[1;36m0\u001b[0m\u001b[1;33m]\u001b[0m \u001b[1;33m-\u001b[0m \u001b[0mnode2\u001b[0m\u001b[1;33m[\u001b[0m\u001b[1;36m0\u001b[0m\u001b[1;33m]\u001b[0m\u001b[1;33m,\u001b[0m \u001b[1;36m2\u001b[0m\u001b[1;33m)\u001b[0m \u001b[1;33m+\u001b[0m \u001b[0mmath\u001b[0m\u001b[1;33m.\u001b[0m\u001b[0mpow\u001b[0m\u001b[1;33m(\u001b[0m\u001b[0mnode1\u001b[0m\u001b[1;33m[\u001b[0m\u001b[1;36m1\u001b[0m\u001b[1;33m]\u001b[0m \u001b[1;33m-\u001b[0m \u001b[0mnode2\u001b[0m\u001b[1;33m[\u001b[0m\u001b[1;36m1\u001b[0m\u001b[1;33m]\u001b[0m\u001b[1;33m,\u001b[0m \u001b[1;36m2\u001b[0m\u001b[1;33m)\u001b[0m\u001b[1;33m)\u001b[0m\u001b[1;33m,\u001b[0m \u001b[1;36m3\u001b[0m\u001b[1;33m)\u001b[0m\u001b[1;33m\u001b[0m\u001b[1;33m\u001b[0m\u001b[0m\n\u001b[0m",
      "\u001b[1;31mTypeError\u001b[0m: 'NoneType' object is not subscriptable"
     ]
    }
   ],
   "source": [
    "#gets the first solution to base the simulated annealing off, uses more cities\n",
    "firstSol = greedy_solution(moreCities)\n",
    "distances = distDict(moreCities)\n",
    "print('Solution {} takes a total of {}'.format(firstSol,totalDist(firstSol, distances)))\n",
    "showPath(firstSol, moreCities) #population X(t)\n",
    "\n",
    "#starts the simulated anneal using more cities, sets false since not randomized \n",
    "sa = SimAnneal(moreCities, False)\n",
    "betterSol = sa.anneal() #gets better solution by anneal process\n",
    "showPath(betterSol, moreCities)#shows path of better solution (population X(t+1))\n",
    "\n",
    "secondSol = randomized_greedy_solution(moreCities, 4)#randomized greedy solution (random modification)\n",
    "print('Solution {} takes a total of {}'.format(secondSol,totalDist(secondSol, distances)))\n",
    "showPath(secondSol, moreCities)\n",
    "\n",
    "sa2 = SimAnneal(moreCities, True, 4)#starts simulated anneal on randomized greedy solution\n",
    "betterSol2 = sa2.anneal()\n",
    "showPath(betterSol2, moreCities)#shows third path (population X(t+2))"
   ]
  },
  {
   "cell_type": "markdown",
   "metadata": {},
   "source": [
    "**9. Moving toward a larger example**  \n",
    "There are a set of coordinates defined in the file *coord.txt* (available in the Jupyter Notebooks module in Brightspace). This data file is also from the github https://github.com/chncyhn/simulated-annealing-tsp.  It contains a larger example with 45 cities, to test.  Here is the beginning of the file:\n",
    "\n",
    "1 0 0  \n",
    "2 3 5  \n",
    "3 2.5 9  \n",
    "4 48 16  \n",
    "5 48 17  \n",
    "6 69 16  \n",
    "...\n",
    "\n",
    "Make sure to put the file *coord.txt* in the same repertory as your notebook or modify the path below when opening the file to read.  We will assume the first number is the label, and the other two numbers are the coordinates."
   ]
  },
  {
   "cell_type": "code",
   "execution_count": 155,
   "metadata": {},
   "outputs": [],
   "source": [
    "# reading the coordinates\n",
    "manyCities = {}\n",
    "with open('coord.txt','r') as f:\n",
    "    i = 0\n",
    "    for line in f.readlines():\n",
    "        line = [float(x.replace('\\n','')) for x in line.split(' ')]\n",
    "        label = str(int(line[0]))\n",
    "        manyCities[label] = (line[1], line[2])\n",
    "        i += 1"
   ]
  },
  {
   "cell_type": "markdown",
   "metadata": {},
   "source": [
    "Show the nodes from that larger set of cities."
   ]
  },
  {
   "cell_type": "code",
   "execution_count": 156,
   "metadata": {},
   "outputs": [
    {
     "data": {
      "image/png": "[encoded data removed]",
      "text/plain": [
       "<Figure size 1080x1080 with 1 Axes>"
      ]
     },
     "metadata": {},
     "output_type": "display_data"
    }
   ],
   "source": [
    "showNodes(manyCities, size=(15,15), xLim=[-75,100], yLim=[-110,60]) #displays coordinates from txt file"
   ]
  },
  {
   "cell_type": "markdown",
   "metadata": {},
   "source": [
    "Testing the annealing process with the larger example. The steps are the same as the ones you had to comment in Question 4. Look at the additional step *plot_learning*, it shows the value of the fitness function as the annealing process occurs.  Run it multiple times, it is a probabilistic approach, so the result might be slightly different each time."
   ]
  },
  {
   "cell_type": "code",
   "execution_count": 157,
   "metadata": {},
   "outputs": [
    {
     "name": "stdout",
     "output_type": "stream",
     "text": [
      "31\n",
      "42\n"
     ]
    },
    {
     "ename": "TypeError",
     "evalue": "'NoneType' object is not subscriptable",
     "output_type": "error",
     "traceback": [
      "\u001b[1;31m---------------------------------------------------------------------------\u001b[0m",
      "\u001b[1;31mTypeError\u001b[0m                                 Traceback (most recent call last)",
      "\u001b[1;32m<ipython-input-157-b2f618107e9d>\u001b[0m in \u001b[0;36m<module>\u001b[1;34m\u001b[0m\n\u001b[0;32m      1\u001b[0m \u001b[0mfirstSol\u001b[0m \u001b[1;33m=\u001b[0m \u001b[0mgreedy_solution\u001b[0m\u001b[1;33m(\u001b[0m\u001b[0mmanyCities\u001b[0m\u001b[1;33m)\u001b[0m\u001b[1;33m\u001b[0m\u001b[1;33m\u001b[0m\u001b[0m\n\u001b[0;32m      2\u001b[0m \u001b[0mdistances\u001b[0m \u001b[1;33m=\u001b[0m \u001b[0mdistDict\u001b[0m\u001b[1;33m(\u001b[0m\u001b[0mmanyCities\u001b[0m\u001b[1;33m)\u001b[0m\u001b[1;33m\u001b[0m\u001b[1;33m\u001b[0m\u001b[0m\n\u001b[1;32m----> 3\u001b[1;33m \u001b[0mprint\u001b[0m\u001b[1;33m(\u001b[0m\u001b[1;34m'Solution {} takes a total of {}'\u001b[0m\u001b[1;33m.\u001b[0m\u001b[0mformat\u001b[0m\u001b[1;33m(\u001b[0m\u001b[0mfirstSol\u001b[0m\u001b[1;33m,\u001b[0m\u001b[0mtotalDist\u001b[0m\u001b[1;33m(\u001b[0m\u001b[0mfirstSol\u001b[0m\u001b[1;33m,\u001b[0m \u001b[0mdistances\u001b[0m\u001b[1;33m)\u001b[0m\u001b[1;33m)\u001b[0m\u001b[1;33m)\u001b[0m\u001b[1;33m\u001b[0m\u001b[1;33m\u001b[0m\u001b[0m\n\u001b[0m\u001b[0;32m      4\u001b[0m \u001b[0mshowPath\u001b[0m\u001b[1;33m(\u001b[0m\u001b[0mfirstSol\u001b[0m\u001b[1;33m,\u001b[0m \u001b[0mmanyCities\u001b[0m\u001b[1;33m,\u001b[0m \u001b[0msize\u001b[0m\u001b[1;33m=\u001b[0m\u001b[1;33m(\u001b[0m\u001b[1;36m15\u001b[0m\u001b[1;33m,\u001b[0m\u001b[1;36m15\u001b[0m\u001b[1;33m)\u001b[0m\u001b[1;33m,\u001b[0m \u001b[0mxLim\u001b[0m\u001b[1;33m=\u001b[0m\u001b[1;33m[\u001b[0m\u001b[1;33m-\u001b[0m\u001b[1;36m75\u001b[0m\u001b[1;33m,\u001b[0m\u001b[1;36m100\u001b[0m\u001b[1;33m]\u001b[0m\u001b[1;33m,\u001b[0m \u001b[0myLim\u001b[0m\u001b[1;33m=\u001b[0m\u001b[1;33m[\u001b[0m\u001b[1;33m-\u001b[0m\u001b[1;36m110\u001b[0m\u001b[1;33m,\u001b[0m\u001b[1;36m60\u001b[0m\u001b[1;33m]\u001b[0m\u001b[1;33m)\u001b[0m\u001b[1;33m\u001b[0m\u001b[1;33m\u001b[0m\u001b[0m\n\u001b[0;32m      5\u001b[0m \u001b[1;33m\u001b[0m\u001b[0m\n",
      "\u001b[1;32m<ipython-input-144-ae0c65fedc15>\u001b[0m in \u001b[0;36mtotalDist\u001b[1;34m(path, distanceDict)\u001b[0m\n\u001b[0;32m      7\u001b[0m         \u001b[0mprint\u001b[0m\u001b[1;33m(\u001b[0m\u001b[0mx\u001b[0m\u001b[1;33m)\u001b[0m\u001b[1;33m\u001b[0m\u001b[1;33m\u001b[0m\u001b[0m\n\u001b[0;32m      8\u001b[0m         \u001b[0mprint\u001b[0m\u001b[1;33m(\u001b[0m\u001b[0my\u001b[0m\u001b[1;33m)\u001b[0m\u001b[1;33m\u001b[0m\u001b[1;33m\u001b[0m\u001b[0m\n\u001b[1;32m----> 9\u001b[1;33m         \u001b[0mtotal\u001b[0m \u001b[1;33m+=\u001b[0m \u001b[0mdist\u001b[0m\u001b[1;33m(\u001b[0m\u001b[0mcities\u001b[0m\u001b[1;33m.\u001b[0m\u001b[0mget\u001b[0m\u001b[1;33m(\u001b[0m\u001b[0mx\u001b[0m\u001b[1;33m)\u001b[0m\u001b[1;33m,\u001b[0m\u001b[0mcities\u001b[0m\u001b[1;33m.\u001b[0m\u001b[0mget\u001b[0m\u001b[1;33m(\u001b[0m\u001b[0my\u001b[0m\u001b[1;33m)\u001b[0m\u001b[1;33m)\u001b[0m\u001b[1;33m\u001b[0m\u001b[1;33m\u001b[0m\u001b[0m\n\u001b[0m\u001b[0;32m     10\u001b[0m     \u001b[1;32mreturn\u001b[0m \u001b[0mround\u001b[0m\u001b[1;33m(\u001b[0m\u001b[0mtotal\u001b[0m\u001b[1;33m,\u001b[0m\u001b[1;36m3\u001b[0m\u001b[1;33m)\u001b[0m\u001b[1;33m\u001b[0m\u001b[1;33m\u001b[0m\u001b[0m\n",
      "\u001b[1;32m<ipython-input-133-8f3d1d9e605a>\u001b[0m in \u001b[0;36mdist\u001b[1;34m(node1, node2)\u001b[0m\n\u001b[0;32m      3\u001b[0m \u001b[1;31m# returns the euclidian distance between two nodes\u001b[0m\u001b[1;33m\u001b[0m\u001b[1;33m\u001b[0m\u001b[1;33m\u001b[0m\u001b[0m\n\u001b[0;32m      4\u001b[0m \u001b[1;32mdef\u001b[0m \u001b[0mdist\u001b[0m\u001b[1;33m(\u001b[0m\u001b[0mnode1\u001b[0m\u001b[1;33m,\u001b[0m \u001b[0mnode2\u001b[0m\u001b[1;33m)\u001b[0m\u001b[1;33m:\u001b[0m\u001b[1;33m\u001b[0m\u001b[1;33m\u001b[0m\u001b[0m\n\u001b[1;32m----> 5\u001b[1;33m     \u001b[1;32mreturn\u001b[0m \u001b[0mround\u001b[0m\u001b[1;33m(\u001b[0m\u001b[0mmath\u001b[0m\u001b[1;33m.\u001b[0m\u001b[0msqrt\u001b[0m\u001b[1;33m(\u001b[0m\u001b[0mmath\u001b[0m\u001b[1;33m.\u001b[0m\u001b[0mpow\u001b[0m\u001b[1;33m(\u001b[0m\u001b[0mnode1\u001b[0m\u001b[1;33m[\u001b[0m\u001b[1;36m0\u001b[0m\u001b[1;33m]\u001b[0m \u001b[1;33m-\u001b[0m \u001b[0mnode2\u001b[0m\u001b[1;33m[\u001b[0m\u001b[1;36m0\u001b[0m\u001b[1;33m]\u001b[0m\u001b[1;33m,\u001b[0m \u001b[1;36m2\u001b[0m\u001b[1;33m)\u001b[0m \u001b[1;33m+\u001b[0m \u001b[0mmath\u001b[0m\u001b[1;33m.\u001b[0m\u001b[0mpow\u001b[0m\u001b[1;33m(\u001b[0m\u001b[0mnode1\u001b[0m\u001b[1;33m[\u001b[0m\u001b[1;36m1\u001b[0m\u001b[1;33m]\u001b[0m \u001b[1;33m-\u001b[0m \u001b[0mnode2\u001b[0m\u001b[1;33m[\u001b[0m\u001b[1;36m1\u001b[0m\u001b[1;33m]\u001b[0m\u001b[1;33m,\u001b[0m \u001b[1;36m2\u001b[0m\u001b[1;33m)\u001b[0m\u001b[1;33m)\u001b[0m\u001b[1;33m,\u001b[0m \u001b[1;36m3\u001b[0m\u001b[1;33m)\u001b[0m\u001b[1;33m\u001b[0m\u001b[1;33m\u001b[0m\u001b[0m\n\u001b[0m",
      "\u001b[1;31mTypeError\u001b[0m: 'NoneType' object is not subscriptable"
     ]
    }
   ],
   "source": [
    "#repeats annealing process on cities from txt file\n",
    "firstSol = greedy_solution(manyCities)\n",
    "distances = distDict(manyCities)\n",
    "print('Solution {} takes a total of {}'.format(firstSol,totalDist(firstSol, distances)))\n",
    "showPath(firstSol, manyCities, size=(15,15), xLim=[-75,100], yLim=[-110,60])\n",
    "\n",
    "sa = SimAnneal(manyCities, False)\n",
    "betterSol = sa.anneal()\n",
    "sa.plot_learning()\n",
    "showPath(betterSol, manyCities, size=(15,15), xLim=[-75,100], yLim=[-110,60])\n",
    "\n",
    "secondSol = randomized_greedy_solution(manyCities, 3)\n",
    "print('Solution {} takes a total of {}'.format(secondSol,totalDist(secondSol, distances)))\n",
    "showPath(firstSol, manyCities, size=(15,15), xLim=[-75,100], yLim=[-110,60])\n",
    "\n",
    "sa2 = SimAnneal(manyCities, True, 4)\n",
    "betterSol2 = sa2.anneal()\n",
    "sa2.plot_learning()\n",
    "showPath(betterSol2, manyCities, size=(15,15), xLim=[-75,100], yLim=[-110,60])"
   ]
  },
  {
   "cell_type": "markdown",
   "metadata": {},
   "source": [
    "**(TO DO) Q6 - 2 marks**   \n",
    "Try the annealing again, but provide a different temperature schedule, by changing alpha, and the starting and stopping temperatures.  These are all parameters to the class which can be set.  Try also changing the number of iterations to do.  Explore 4 variations below."
   ]
  },
  {
   "cell_type": "code",
   "execution_count": 158,
   "metadata": {},
   "outputs": [
    {
     "name": "stdout",
     "output_type": "stream",
     "text": [
      "41\n",
      "40\n"
     ]
    },
    {
     "ename": "TypeError",
     "evalue": "'NoneType' object is not subscriptable",
     "output_type": "error",
     "traceback": [
      "\u001b[1;31m---------------------------------------------------------------------------\u001b[0m",
      "\u001b[1;31mTypeError\u001b[0m                                 Traceback (most recent call last)",
      "\u001b[1;32m<ipython-input-158-b36d83a6f461>\u001b[0m in \u001b[0;36m<module>\u001b[1;34m\u001b[0m\n\u001b[0;32m     10\u001b[0m \u001b[1;33m\u001b[0m\u001b[0m\n\u001b[0;32m     11\u001b[0m \u001b[1;31m# Test 1 (Use a Greedy solution, see comment above) ...\u001b[0m\u001b[1;33m\u001b[0m\u001b[1;33m\u001b[0m\u001b[1;33m\u001b[0m\u001b[0m\n\u001b[1;32m---> 12\u001b[1;33m \u001b[0msa\u001b[0m \u001b[1;33m=\u001b[0m \u001b[0mSimAnneal\u001b[0m\u001b[1;33m(\u001b[0m\u001b[0mmanyCities\u001b[0m\u001b[1;33m,\u001b[0m \u001b[1;32mFalse\u001b[0m\u001b[1;33m)\u001b[0m\u001b[1;33m\u001b[0m\u001b[1;33m\u001b[0m\u001b[0m\n\u001b[0m\u001b[0;32m     13\u001b[0m \u001b[0mbetterSol\u001b[0m \u001b[1;33m=\u001b[0m \u001b[0msa\u001b[0m\u001b[1;33m.\u001b[0m\u001b[0manneal\u001b[0m\u001b[1;33m(\u001b[0m\u001b[1;33m)\u001b[0m\u001b[1;33m\u001b[0m\u001b[1;33m\u001b[0m\u001b[0m\n\u001b[0;32m     14\u001b[0m \u001b[0msa\u001b[0m\u001b[1;33m.\u001b[0m\u001b[0mplot_learning\u001b[0m\u001b[1;33m(\u001b[0m\u001b[1;33m)\u001b[0m\u001b[1;33m\u001b[0m\u001b[1;33m\u001b[0m\u001b[0m\n",
      "\u001b[1;32m<ipython-input-152-a56262bad3bd>\u001b[0m in \u001b[0;36m__init__\u001b[1;34m(self, nodes, randomizedGreedy, k, T, alpha, stopping_T, stopping_iter)\u001b[0m\n\u001b[0;32m     34\u001b[0m \u001b[1;33m\u001b[0m\u001b[0m\n\u001b[0;32m     35\u001b[0m         \u001b[1;31m# calculate fitness of the current solution\u001b[0m\u001b[1;33m\u001b[0m\u001b[1;33m\u001b[0m\u001b[1;33m\u001b[0m\u001b[0m\n\u001b[1;32m---> 36\u001b[1;33m         \u001b[0mself\u001b[0m\u001b[1;33m.\u001b[0m\u001b[0mcur_fitness\u001b[0m \u001b[1;33m=\u001b[0m \u001b[0mself\u001b[0m\u001b[1;33m.\u001b[0m\u001b[0mfitness\u001b[0m\u001b[1;33m(\u001b[0m\u001b[0mself\u001b[0m\u001b[1;33m.\u001b[0m\u001b[0mcur_solution\u001b[0m\u001b[1;33m)\u001b[0m\u001b[1;33m\u001b[0m\u001b[1;33m\u001b[0m\u001b[0m\n\u001b[0m\u001b[0;32m     37\u001b[0m         \u001b[1;31m# initial fitness for initial solution\u001b[0m\u001b[1;33m\u001b[0m\u001b[1;33m\u001b[0m\u001b[1;33m\u001b[0m\u001b[0m\n\u001b[0;32m     38\u001b[0m         \u001b[0mself\u001b[0m\u001b[1;33m.\u001b[0m\u001b[0minitial_fitness\u001b[0m \u001b[1;33m=\u001b[0m \u001b[0mself\u001b[0m\u001b[1;33m.\u001b[0m\u001b[0mcur_fitness\u001b[0m\u001b[1;33m\u001b[0m\u001b[1;33m\u001b[0m\u001b[0m\n",
      "\u001b[1;32m<ipython-input-152-a56262bad3bd>\u001b[0m in \u001b[0;36mfitness\u001b[1;34m(self, sol)\u001b[0m\n\u001b[0;32m     45\u001b[0m     \u001b[1;32mdef\u001b[0m \u001b[0mfitness\u001b[0m\u001b[1;33m(\u001b[0m\u001b[0mself\u001b[0m\u001b[1;33m,\u001b[0m \u001b[0msol\u001b[0m\u001b[1;33m)\u001b[0m\u001b[1;33m:\u001b[0m\u001b[1;33m\u001b[0m\u001b[1;33m\u001b[0m\u001b[0m\n\u001b[0;32m     46\u001b[0m         \u001b[1;34m\"\"\" Objective value of a solution \"\"\"\u001b[0m\u001b[1;33m\u001b[0m\u001b[1;33m\u001b[0m\u001b[0m\n\u001b[1;32m---> 47\u001b[1;33m         \u001b[1;32mreturn\u001b[0m \u001b[0mtotalDist\u001b[0m\u001b[1;33m(\u001b[0m\u001b[0msol\u001b[0m\u001b[1;33m,\u001b[0m \u001b[0mself\u001b[0m\u001b[1;33m.\u001b[0m\u001b[0mallDist\u001b[0m\u001b[1;33m)\u001b[0m\u001b[1;33m\u001b[0m\u001b[1;33m\u001b[0m\u001b[0m\n\u001b[0m\u001b[0;32m     48\u001b[0m \u001b[1;33m\u001b[0m\u001b[0m\n\u001b[0;32m     49\u001b[0m     \u001b[1;31m# acceptance propability\u001b[0m\u001b[1;33m\u001b[0m\u001b[1;33m\u001b[0m\u001b[1;33m\u001b[0m\u001b[0m\n",
      "\u001b[1;32m<ipython-input-144-ae0c65fedc15>\u001b[0m in \u001b[0;36mtotalDist\u001b[1;34m(path, distanceDict)\u001b[0m\n\u001b[0;32m      7\u001b[0m         \u001b[0mprint\u001b[0m\u001b[1;33m(\u001b[0m\u001b[0mx\u001b[0m\u001b[1;33m)\u001b[0m\u001b[1;33m\u001b[0m\u001b[1;33m\u001b[0m\u001b[0m\n\u001b[0;32m      8\u001b[0m         \u001b[0mprint\u001b[0m\u001b[1;33m(\u001b[0m\u001b[0my\u001b[0m\u001b[1;33m)\u001b[0m\u001b[1;33m\u001b[0m\u001b[1;33m\u001b[0m\u001b[0m\n\u001b[1;32m----> 9\u001b[1;33m         \u001b[0mtotal\u001b[0m \u001b[1;33m+=\u001b[0m \u001b[0mdist\u001b[0m\u001b[1;33m(\u001b[0m\u001b[0mcities\u001b[0m\u001b[1;33m.\u001b[0m\u001b[0mget\u001b[0m\u001b[1;33m(\u001b[0m\u001b[0mx\u001b[0m\u001b[1;33m)\u001b[0m\u001b[1;33m,\u001b[0m\u001b[0mcities\u001b[0m\u001b[1;33m.\u001b[0m\u001b[0mget\u001b[0m\u001b[1;33m(\u001b[0m\u001b[0my\u001b[0m\u001b[1;33m)\u001b[0m\u001b[1;33m)\u001b[0m\u001b[1;33m\u001b[0m\u001b[1;33m\u001b[0m\u001b[0m\n\u001b[0m\u001b[0;32m     10\u001b[0m     \u001b[1;32mreturn\u001b[0m \u001b[0mround\u001b[0m\u001b[1;33m(\u001b[0m\u001b[0mtotal\u001b[0m\u001b[1;33m,\u001b[0m\u001b[1;36m3\u001b[0m\u001b[1;33m)\u001b[0m\u001b[1;33m\u001b[0m\u001b[1;33m\u001b[0m\u001b[0m\n",
      "\u001b[1;32m<ipython-input-133-8f3d1d9e605a>\u001b[0m in \u001b[0;36mdist\u001b[1;34m(node1, node2)\u001b[0m\n\u001b[0;32m      3\u001b[0m \u001b[1;31m# returns the euclidian distance between two nodes\u001b[0m\u001b[1;33m\u001b[0m\u001b[1;33m\u001b[0m\u001b[1;33m\u001b[0m\u001b[0m\n\u001b[0;32m      4\u001b[0m \u001b[1;32mdef\u001b[0m \u001b[0mdist\u001b[0m\u001b[1;33m(\u001b[0m\u001b[0mnode1\u001b[0m\u001b[1;33m,\u001b[0m \u001b[0mnode2\u001b[0m\u001b[1;33m)\u001b[0m\u001b[1;33m:\u001b[0m\u001b[1;33m\u001b[0m\u001b[1;33m\u001b[0m\u001b[0m\n\u001b[1;32m----> 5\u001b[1;33m     \u001b[1;32mreturn\u001b[0m \u001b[0mround\u001b[0m\u001b[1;33m(\u001b[0m\u001b[0mmath\u001b[0m\u001b[1;33m.\u001b[0m\u001b[0msqrt\u001b[0m\u001b[1;33m(\u001b[0m\u001b[0mmath\u001b[0m\u001b[1;33m.\u001b[0m\u001b[0mpow\u001b[0m\u001b[1;33m(\u001b[0m\u001b[0mnode1\u001b[0m\u001b[1;33m[\u001b[0m\u001b[1;36m0\u001b[0m\u001b[1;33m]\u001b[0m \u001b[1;33m-\u001b[0m \u001b[0mnode2\u001b[0m\u001b[1;33m[\u001b[0m\u001b[1;36m0\u001b[0m\u001b[1;33m]\u001b[0m\u001b[1;33m,\u001b[0m \u001b[1;36m2\u001b[0m\u001b[1;33m)\u001b[0m \u001b[1;33m+\u001b[0m \u001b[0mmath\u001b[0m\u001b[1;33m.\u001b[0m\u001b[0mpow\u001b[0m\u001b[1;33m(\u001b[0m\u001b[0mnode1\u001b[0m\u001b[1;33m[\u001b[0m\u001b[1;36m1\u001b[0m\u001b[1;33m]\u001b[0m \u001b[1;33m-\u001b[0m \u001b[0mnode2\u001b[0m\u001b[1;33m[\u001b[0m\u001b[1;36m1\u001b[0m\u001b[1;33m]\u001b[0m\u001b[1;33m,\u001b[0m \u001b[1;36m2\u001b[0m\u001b[1;33m)\u001b[0m\u001b[1;33m)\u001b[0m\u001b[1;33m,\u001b[0m \u001b[1;36m3\u001b[0m\u001b[1;33m)\u001b[0m\u001b[1;33m\u001b[0m\u001b[1;33m\u001b[0m\u001b[0m\n\u001b[0m",
      "\u001b[1;31mTypeError\u001b[0m: 'NoneType' object is not subscriptable"
     ]
    }
   ],
   "source": [
    "# (TO DO) Look at this line from the SimAnneal class above\n",
    "# def __init__(self, nodes, randomizedGreedy, k=4, T=-1, alpha=-1, stopping_T=-1, stopping_iter=-1):\n",
    "# This means that parameters k, T, alpha, stopping_T and stopping_iter all have defaults, but could be changed\n",
    "# For example, calling SimAnneal(manyCities, False, stopping_iter=100) means that I set a maximum of 100 iterations for a \n",
    "# Greedy solution. Calling  SimAnneal(manyCities, True, k=3, stopping_iter=100) is the same for a randomized greedy solution\n",
    "# with k = 3.\n",
    "# Try four variations and look at the differences\n",
    "# The key point of this question is to use different parameters to understand how they work\n",
    "# What you need to do is create and run these four different examples\n",
    "\n",
    "# Test 1 (Use a Greedy solution, see comment above) ...\n",
    "sa = SimAnneal(manyCities, False)\n",
    "betterSol = sa.anneal()\n",
    "sa.plot_learning()\n",
    "showPath(betterSol, manyCities, size=(15,15), xLim=[-75,100], yLim=[-110,60])\n",
    "\n",
    "# Test 2 (Use a Randomized Greedy solution, see comment above)...\n",
    "secondSol = randomized_greedy_solution(manyCities, 3)\n",
    "print('Solution {} takes a total of {}'.format(secondSol,totalDist(secondSol, distances)))\n",
    "showPath(firstSol, manyCities, size=(15,15), xLim=[-75,100], yLim=[-110,60])\n",
    "\n",
    "# Test 3 (Use a Greedy solution, see comment above)...\n",
    "sa = SimAnneal(manyCities, False)\n",
    "betterSol = sa.anneal()\n",
    "sa.plot_learning()\n",
    "showPath(betterSol, manyCities, size=(15,15), xLim=[-75,100], yLim=[-110,60])\n",
    "# Test 4 (Use a Randomized Greedy solution, see comment above)...\n",
    "secondSol = randomized_greedy_solution(manyCities, 6)\n",
    "print('Solution {} takes a total of {}'.format(secondSol,totalDist(secondSol, distances)))\n",
    "showPath(firstSol, manyCities, size=(15,15), xLim=[-75,100], yLim=[-110,60])"
   ]
  },
  {
   "cell_type": "markdown",
   "metadata": {},
   "source": [
    "***SIGNATURE:***\n",
    "My name is Shail Patel.\n",
    "My student number is 8234706.\n",
    "I certify being the author of this assignment."
   ]
  },
  {
   "cell_type": "code",
   "execution_count": null,
   "metadata": {},
   "outputs": [],
   "source": []
  }
 ],
 "metadata": {
  "kernelspec": {
   "display_name": "Python 3",
   "language": "python",
   "name": "python3"
  },
  "language_info": {
   "codemirror_mode": {
    "name": "ipython",
    "version": 3
   },
   "file_extension": ".py",
   "mimetype": "text/x-python",
   "name": "python",
   "nbconvert_exporter": "python",
   "pygments_lexer": "ipython3",
   "version": "3.8.5"
  }
 },
 "nbformat": 4,
 "nbformat_minor": 2
}
